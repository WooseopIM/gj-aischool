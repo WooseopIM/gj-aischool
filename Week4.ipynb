{
  "nbformat": 4,
  "nbformat_minor": 0,
  "metadata": {
    "colab": {
      "name": "Week4",
      "provenance": [],
      "collapsed_sections": [],
      "include_colab_link": true
    },
    "kernelspec": {
      "name": "python3",
      "display_name": "Python 3"
    }
  },
  "cells": [
    {
      "cell_type": "markdown",
      "metadata": {
        "id": "view-in-github",
        "colab_type": "text"
      },
      "source": [
        "<a href=\"https://colab.research.google.com/github/WooseopIM/gj-aischool/blob/master/Week4.ipynb\" target=\"_parent\"><img src=\"https://colab.research.google.com/assets/colab-badge.svg\" alt=\"Open In Colab\"/></a>"
      ]
    },
    {
      "cell_type": "markdown",
      "metadata": {
        "id": "wxkL6PjwsI6L",
        "colab_type": "text"
      },
      "source": [
        "# 4주차 과제\n",
        "- 용어 정리\n",
        "- 딥러닝 강의 클론 코딩\n",
        "- 딥러닝 순전파 & 역전파 계산"
      ]
    },
    {
      "cell_type": "markdown",
      "metadata": {
        "id": "ixEtDe6_uGgI",
        "colab_type": "text"
      },
      "source": [
        "## 1. 용어 정리\n",
        "\n",
        "다음 제시된 단어의 정의(설명)를 정리하여 작성 하세요.\n",
        "\n",
        "* 2문장 이상 작성 해 주세요. \n",
        "* 주제(단어)와 크게 벗어나지만 않는다면 정답처리 됩니다.\n",
        "* 강의 뿐 아니라 기타 레퍼런스를 참고하여 작성하셔도 됩니다. (기타 레퍼런스를 참고하신 경우, 해당 레퍼런스를 정리하여 하단에 작성해 주세요.)\n"
      ]
    },
    {
      "cell_type": "markdown",
      "metadata": {
        "id": "0lfwat8eurKZ",
        "colab_type": "text"
      },
      "source": [
        "__(예시)__\n",
        "### 심층 신경망\n",
        ": 입력층과 출력층 사이에 여러 개의 은닉층들로 이뤄진 인공신경망이다. 심층 신경망은 일반적으로 인공신경망과 마찬가지로 복잡한 비선형 관계들을 모델링 할 수 있다. 신층신경망의 목적은 분류 및 수치예측을 하기 위함이고 이미지 트레이닝이나 문자인식과 같은 분야에서 매우 유용하게 쓰이고 있다."
      ]
    },
    {
      "cell_type": "markdown",
      "metadata": {
        "id": "Y8YJNKG_v65A",
        "colab_type": "text"
      },
      "source": [
        "### MCP 뉴런\n",
        ": AI를 설계하기 위해 생물학적으로 뇌가 동작하는 방식을 이해하려는 시도로 워랜 맥컬록과 월터 피츠가 처음으로 간소화된 뇌의 뉴런 개념을 발표했는데 이를 `맥컬록-피츠 뉴런(MCP)`이라고 한다.\n",
        "\n",
        "뉴런들은 뇌의 신경세포와 서로 연결되어 있으며 화학적, 전기적 신호를 처리하고 전달하는데 관여한다.\n",
        "\n",
        "맥컬록과 피츠는 이러한 신경세포를 이진 출력을 내는 간단한 논리 회로로 표현했는데, 이는 몇 년 후 프랭크 로젠블랫이 발표한 퍼셉트론 개념의 기반이 되었다.\n",
        "\n",
        "### 퍼셉트론\n",
        ": 캐나다 심리학자 Donald O.hebb에 의하면 인간 두뇌의 작용은 개별 신경세포에서 이뤄지는 것이 아니라 개별 신경세포들 사이의 연결 강도로 정해진다고 했다. 우리의 두뇌가 신경망으로 활동하고 있음을 설명한 것이다(헵의 규칙). 이는 이후 인공 신경망 모델들의 학습 규칙이 된다.\n",
        "\n",
        "MCP를 기반으로 탄생한 프랭크 로젠블랫의 퍼셉트론도 이러한 헵의 규칙에 따라 작성되었다. 퍼셉트론을 간단하게 표현하면 입력을 받아서 계산한 후 출력을 반환하는 구조인데, 퍼셉트론은 뉴런이 여러 개 모인 레이어를 구성한 후 다시 이 레이어가 여러 개 모여 구성된 형태로 설명할 수 있다.\n",
        "\n",
        "하나의 뉴런을 더 자세하게 표현하면 가중치와 활성화 함수가 숨어 있음을 확인할 수 있다. 이때 활성화 함수는 뉴런의 출력 값을 정하는 함수로서, 가장 간단한 형태의 뉴런은 입력에 가중치를 곱한 뒤 활성화 함수를 취하면 출력 값을 얻을 수 있다.\n",
        "\n",
        "### 역전파\n",
        ": 뉴런의 가중치를 효율적으로 조정하기 위하여 거꾸로 무엇인가를 전파하는 방식이다. 원하는 출력값을 얻고자 할 때 이 출력값은 바로 이전 값의 영향을 무시할 수 없기 때문에, 출력값과 지도 데이터 사이에 생기는 오차를 이용해 출력층에서 입력층 쪽으로 가중치를 조정하게 된다. \n",
        "\n",
        "### 강화학습\n",
        ": 강화학습은 지도학습처럼 정답이 있지도 않고, 비지도학습처럼 데이터만을 기반으로 학습하지도 않는다. 강화학습은 에이전트라는 존재가 환경과 상호작용하며 환경이 제공하는 보상을 기준으로 다양한 시행착오를 겪어가며 보상을 최대화하는 방향으로 진행한다.\n",
        "\n",
        "자전거를 처음 탔을 때를 예로 들면, 우리가 처음 자전거를 배울 때 넘어지면서 겪는 고통은 강화학습 입장에서 '페널티를 받는 것'이고, 시간이 지나면서 자전거에 익숙해지는 것은 '보상을 받는 것'이라고 할 수 있다.\n",
        "\n",
        "다수의 시행착오를 통해 비교적 명확한 보상을 설정할 수 있는 문제를 해결하는 데 사용되고 있다. 앞서 길게 쓴 말을 짧게 정리하면 강화학습은 \"보상을 최대화하는 의사결정전략\"이라고 할 수 있겠다.\n",
        "\n",
        "### 과적합\n",
        ": 결정 트리 학습 모델에서 너무 많은 분기로 인해 깊은 트리가 만들어지는 것을 과적합이라고 한다. 이를 막기 위해 분기를 재조정하는 가지치기를 사용해 트리의 최대 깊이를 제한하는 방법을 사용한다.\n",
        "\n",
        "### 차원의 저주\n",
        ": 훈련 데이터 셋 차원이 늘어남에 따라 특성 공간이 점점 희소해지는 현상을 의미한다. 이를 피하기 위해 올바른 변수의 선택과 차원 축소 기법 등을 사용한다.\n"
      ]
    },
    {
      "cell_type": "markdown",
      "metadata": {
        "id": "d-zfFXLCy6jD",
        "colab_type": "text"
      },
      "source": [
        "## 2. 딥러닝 강의 클론 코딩\n",
        "\n",
        "####__퍼셉트론 구조 구현하기__ \n",
        "딥러닝 강의(__딥러닝 원리[1] 3:15 ~ 5:15 부분__)를 보고 코드를 따라 치며 출력 결과를 만드세요.\n",
        " \n",
        "\n",
        "* 하나의 코드셀에 해당 코드를 한번에 다 적어서 실행해주세요 (__그렇게 하지 않을 경우, 아래 이미지와 같은 출력값이 나오지 않을 수 있습니다__)\n",
        "\n",
        "*__주의!__ 실제로 코딩해서 출력해보면 강의에 나온 출력 결과와 다르게 나옵니다!!\n"
      ]
    },
    {
      "cell_type": "markdown",
      "metadata": {
        "id": "wcc5mzI9oZ7r",
        "colab_type": "text"
      },
      "source": [
        "![대체 텍스트](https://www.notion.so/image/https%3A%2F%2Fs3-us-west-2.amazonaws.com%2Fsecure.notion-static.com%2F0cceeed0-0235-4b0f-af88-0b8c377d5b4b%2F_2020-06-09__9.35.23.png?table=block&id=88fd8912-9356-49a4-9fda-a1a63fe96ea9&width=2870&cache=v2)"
      ]
    },
    {
      "cell_type": "code",
      "metadata": {
        "id": "YLJ2tpaUGolc",
        "colab_type": "code",
        "colab": {
          "base_uri": "https://localhost:8080/",
          "height": 210
        },
        "outputId": "84b0becb-f5ba-46cb-bf96-fb73849c3de7"
      },
      "source": [
        "import tensorflow as tf\n",
        "tf.compat.v1.set_random_seed(2020)\n",
        "x = 1\n",
        "y = 0\n",
        "w = tf.random.normal([1],0,1)\n",
        "\n",
        "import math\n",
        "def sigmoid(x):\n",
        "    return 1/(1+math.exp(-x))\n",
        "\n",
        "output = sigmoid(x*w)\n",
        "print(output)\n",
        "\n",
        "for i in range(1000):\n",
        "  output = sigmoid(x*w)\n",
        "  error = y - output\n",
        "  w = w+ x*0.1*error\n",
        "  if i % 100 == 99:\n",
        "    print(f\"학습횟수:{i} Error:{error} 예측결과:{output}\")"
      ],
      "execution_count": 7,
      "outputs": [
        {
          "output_type": "stream",
          "text": [
            "0.47477188589261\n",
            "학습횟수:99 Error:-0.10010598284299604 예측결과:0.10010598284299604\n",
            "학습횟수:199 Error:-0.05178399422833116 예측결과:0.05178399422833116\n",
            "학습횟수:299 Error:-0.034590451977903586 예측결과:0.034590451977903586\n",
            "학습횟수:399 Error:-0.02588962752851373 예측결과:0.02588962752851373\n",
            "학습횟수:499 Error:-0.020658699939863617 예측결과:0.020658699939863617\n",
            "학습횟수:599 Error:-0.017174253993457355 예측결과:0.017174253993457355\n",
            "학습횟수:699 Error:-0.014689506449480992 예측결과:0.014689506449480992\n",
            "학습횟수:799 Error:-0.012829497265431342 예측결과:0.012829497265431342\n",
            "학습횟수:899 Error:-0.011385568271837804 예측결과:0.011385568271837804\n",
            "학습횟수:999 Error:-0.010232493309882492 예측결과:0.010232493309882492\n"
          ],
          "name": "stdout"
        }
      ]
    },
    {
      "cell_type": "markdown",
      "metadata": {
        "id": "kr0HVRk8fOom",
        "colab_type": "text"
      },
      "source": [
        "## 3. 딥러닝 순전파 & 역전파 계산\n",
        "\n",
        "딥러닝 강의(__딥러닝 원리[2] 0:55 ~ 4:32 부분__)에 나오는 순전파 & 역전파 계산에 대한 문제 입니다.\n",
        "\n",
        "해당 영상과 다음 이미지를 참고하여 다음 2가지 물음에 답하세요.\n",
        "\n",
        "\n",
        "(1) 학습률이 0.2 일 경우 출력층의 노드값\n",
        "\n",
        "(2) 학습률이 0.1과 0.2 중 기대출력값이 지도데이터 \"3\"과 더 가까운 학습률은?"
      ]
    },
    {
      "cell_type": "markdown",
      "metadata": {
        "id": "CpwPFWhOUzww",
        "colab_type": "text"
      },
      "source": [
        "![대체 텍스트](https://www.notion.so/image/https%3A%2F%2Fs3-us-west-2.amazonaws.com%2Fsecure.notion-static.com%2Ff54dfd45-92ec-44ae-9616-6949d2484a45%2F_2020-06-10__5.22.03.png?table=block&id=ee05da89-3ceb-4ad9-a2d3-c9f68d24d1d9&width=3580&cache=v2)"
      ]
    },
    {
      "cell_type": "markdown",
      "metadata": {
        "id": "B2OVY7w5U3CI",
        "colab_type": "text"
      },
      "source": [
        "## (1) 학습률이 0.2 일 경우 출력층의 노드값 : 2\n",
        "## (2) 학습률이 0.1과 0.2 중 기대출력값이 지도데이터 \"3\"과 더 가까운 학습률은? : 0.1"
      ]
    }
  ]
}