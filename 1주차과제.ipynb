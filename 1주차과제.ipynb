{
  "nbformat": 4,
  "nbformat_minor": 0,
  "metadata": {
    "colab": {
      "name": "인공지능 사관학교 1주차.ipynb",
      "provenance": [],
      "collapsed_sections": [],
      "authorship_tag": "ABX9TyOmNf9fOCvAsQZ/Gk3XZtBa",
      "include_colab_link": true
    },
    "kernelspec": {
      "name": "python3",
      "display_name": "Python 3"
    }
  },
  "cells": [
    {
      "cell_type": "markdown",
      "metadata": {
        "id": "view-in-github",
        "colab_type": "text"
      },
      "source": [
        "<a href=\"https://colab.research.google.com/github/WooseopIM/gj-aischool/blob/master/%EC%9D%B8%EA%B3%B5%EC%A7%80%EB%8A%A5_%EC%82%AC%EA%B4%80%ED%95%99%EA%B5%90_1%EC%A3%BC%EC%B0%A8.ipynb\" target=\"_parent\"><img src=\"https://colab.research.google.com/assets/colab-badge.svg\" alt=\"Open In Colab\"/></a>"
      ]
    },
    {
      "cell_type": "code",
      "metadata": {
        "id": "Voa2aAEda7ri",
        "colab_type": "code",
        "colab": {}
      },
      "source": [
        ""
      ],
      "execution_count": null,
      "outputs": []
    },
    {
      "cell_type": "markdown",
      "metadata": {
        "id": "0GnvLv6rbrh_",
        "colab_type": "text"
      },
      "source": [
        "# 인공지능 사관학교 PreCourse 과제 목차\n",
        "## 1주차 과제\n",
        "> 언어, 음성, 이미지, 자율주행 분야에서 인공지능 기술을 사용하는 제품 및 서비스를 찾아 깃헙 마크다운으로 작성하여 url과 과제 목차 스크린 캡처를 제출하기\n",
        "\n",
        "1. 인공지능 기술이 활용된 언어 제품 및 서비스\n",
        "- 번역: 구글 번역, 네이버 파파고\n",
        "- 형태소 분석: 카카오 카이(khaiii) - 딥러닝 CNN을 이용해 음절 기반으로 형태소를 분석한다.\n",
        "2. 인공지능 기술이 활용된 음성 제품 및 서비스\n",
        "- 인공지능 스피커(비서): 아마존 Echo(알렉사), 카카오 미니(Kakao i), SKY NUGU(아리아), 삼성 빅스비, 네이버 클로바\n",
        "3. 인공지능 기술이 활용된 이미지 제품 및 서비스\n",
        "- 의료: (주)뷰노 인공지능 기반 의료 영상 분석 솔루션\n",
        "- 솔트룩스 Ai Suite\n",
        "4. 인공지능 기술이 활용된 자율주행 제품 및 서비스\n",
        "- 호주 Rio Tinto Auto Haul 디지털 광산 프로젝트로 탄생한 자율 주행 열차 (철광석 생산 효율 증대)"
      ]
    },
    {
      "cell_type": "code",
      "metadata": {
        "id": "28c2YubsckHX",
        "colab_type": "code",
        "colab": {}
      },
      "source": [
        ""
      ],
      "execution_count": null,
      "outputs": []
    }
  ]
}
